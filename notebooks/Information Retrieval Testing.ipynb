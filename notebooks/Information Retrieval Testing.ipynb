{
 "cells": [
  {
   "cell_type": "code",
   "execution_count": 3,
   "metadata": {},
   "outputs": [],
   "source": [
    "import pickle\n",
    "import pandas as pd\n",
    "import numpy as np\n",
    "from sklearn.feature_extraction.text import TfidfVectorizer\n",
    "from sklearn.preprocessing import normalize"
   ]
  },
  {
   "cell_type": "code",
   "execution_count": 4,
   "metadata": {},
   "outputs": [],
   "source": [
    "df = pd.read_csv(\"backend/data/trunc_metadata.csv\")"
   ]
  },
  {
   "cell_type": "code",
   "execution_count": 5,
   "metadata": {},
   "outputs": [
    {
     "data": {
      "text/html": [
       "<div>\n",
       "<style scoped>\n",
       "    .dataframe tbody tr th:only-of-type {\n",
       "        vertical-align: middle;\n",
       "    }\n",
       "\n",
       "    .dataframe tbody tr th {\n",
       "        vertical-align: top;\n",
       "    }\n",
       "\n",
       "    .dataframe thead th {\n",
       "        text-align: right;\n",
       "    }\n",
       "</style>\n",
       "<table border=\"1\" class=\"dataframe\">\n",
       "  <thead>\n",
       "    <tr style=\"text-align: right;\">\n",
       "      <th></th>\n",
       "      <th>show_name</th>\n",
       "      <th>show_uri</th>\n",
       "      <th>show_description</th>\n",
       "      <th>publisher</th>\n",
       "      <th>rss_link</th>\n",
       "      <th>avg_duration</th>\n",
       "      <th>category</th>\n",
       "      <th>subcategory</th>\n",
       "      <th>publish_time</th>\n",
       "    </tr>\n",
       "  </thead>\n",
       "  <tbody>\n",
       "    <tr>\n",
       "      <th>0</th>\n",
       "      <td>The Grier Podcast</td>\n",
       "      <td>spotify:show:1spDjPLku0UCnir7H2hEG4</td>\n",
       "      <td>A podcast recorded and created by the students...</td>\n",
       "      <td>Bryan Beckel</td>\n",
       "      <td>https://anchor.fm/s/11399a34/podcast/rss</td>\n",
       "      <td>21.389133</td>\n",
       "      <td>Education</td>\n",
       "      <td>NaN</td>\n",
       "      <td>2022-02-21 12:00:00</td>\n",
       "    </tr>\n",
       "    <tr>\n",
       "      <th>1</th>\n",
       "      <td>\"ACIM\" A Course In Miracles For The Millennium</td>\n",
       "      <td>spotify:show:5wb7vWvrCtgsY3jMvIAOXW</td>\n",
       "      <td>\"A study group for the transformation of life ...</td>\n",
       "      <td>Rafael Hidalgo</td>\n",
       "      <td>https://anchor.fm/s/25197c4/podcast/rss</td>\n",
       "      <td>87.984350</td>\n",
       "      <td>Religion &amp; Spirituality</td>\n",
       "      <td>NaN</td>\n",
       "      <td>2019-02-21 19:27:18</td>\n",
       "    </tr>\n",
       "    <tr>\n",
       "      <th>2</th>\n",
       "      <td>AfroLatina_BeautifitlyBalanced</td>\n",
       "      <td>spotify:show:3zbdWAjWe2sp91t3Ly1j49</td>\n",
       "      <td>Health+SELF Love+Spotless Clean Home! Thats ev...</td>\n",
       "      <td>The AfroLatina_BeautifitlyBalanced</td>\n",
       "      <td>https://anchor.fm/s/9571594/podcast/rss</td>\n",
       "      <td>19.906850</td>\n",
       "      <td>Health &amp; Fitness</td>\n",
       "      <td>Mental Health</td>\n",
       "      <td>2022-07-08 03:24:43</td>\n",
       "    </tr>\n",
       "    <tr>\n",
       "      <th>3</th>\n",
       "      <td>Apostles of Tomorrow</td>\n",
       "      <td>spotify:show:31r4WwUvNQ0CHGU2xobnZP</td>\n",
       "      <td>A podcast to help fellow Gen Z Apostolics,To f...</td>\n",
       "      <td>Your host Garrett</td>\n",
       "      <td>https://anchor.fm/s/ddebcac/podcast/rss</td>\n",
       "      <td>29.358917</td>\n",
       "      <td>Religion &amp; Spirituality</td>\n",
       "      <td>Spirituality</td>\n",
       "      <td>2020-10-29 17:00:00</td>\n",
       "    </tr>\n",
       "    <tr>\n",
       "      <th>4</th>\n",
       "      <td>Brave Broccoli</td>\n",
       "      <td>spotify:show:7K1LCJSpW2OoDcI9PU9iyV</td>\n",
       "      <td>Just start talking and we can go from there</td>\n",
       "      <td>The brave vegetable</td>\n",
       "      <td>https://anchor.fm/s/122f9614/podcast/rss</td>\n",
       "      <td>37.889942</td>\n",
       "      <td>Comedy</td>\n",
       "      <td>Comedy Interviews</td>\n",
       "      <td>2020-01-19 01:02:16</td>\n",
       "    </tr>\n",
       "    <tr>\n",
       "      <th>...</th>\n",
       "      <td>...</td>\n",
       "      <td>...</td>\n",
       "      <td>...</td>\n",
       "      <td>...</td>\n",
       "      <td>...</td>\n",
       "      <td>...</td>\n",
       "      <td>...</td>\n",
       "      <td>...</td>\n",
       "      <td>...</td>\n",
       "    </tr>\n",
       "    <tr>\n",
       "      <th>15837</th>\n",
       "      <td>free your mind: podcast</td>\n",
       "      <td>spotify:show:2DqGCojWyryoDFq0argY9E</td>\n",
       "      <td>Sharing the journey of life &amp; how to set your ...</td>\n",
       "      <td>Ima</td>\n",
       "      <td>https://anchor.fm/s/e94e5e0/podcast/rss</td>\n",
       "      <td>10.529867</td>\n",
       "      <td>Education</td>\n",
       "      <td>Self-Improvement</td>\n",
       "      <td>2021-03-02 03:49:00</td>\n",
       "    </tr>\n",
       "    <tr>\n",
       "      <th>15838</th>\n",
       "      <td>The Best Comes from the worst</td>\n",
       "      <td>spotify:show:31aNxmwRKE2zlQbYVglQxe</td>\n",
       "      <td>In order to live your best life you must exper...</td>\n",
       "      <td>James Taylor</td>\n",
       "      <td>https://anchor.fm/s/b2b7450/podcast/rss</td>\n",
       "      <td>16.416900</td>\n",
       "      <td>Religion &amp; Spirituality</td>\n",
       "      <td>NaN</td>\n",
       "      <td>2019-10-14 17:02:45</td>\n",
       "    </tr>\n",
       "    <tr>\n",
       "      <th>15839</th>\n",
       "      <td>RED CUP VIBEz</td>\n",
       "      <td>spotify:show:5omDM65kJwYhlJdAiA86fn</td>\n",
       "      <td>Sipping too many adult beverages out of a red ...</td>\n",
       "      <td>BURBERRYLYTE</td>\n",
       "      <td>https://anchor.fm/s/12949c94/podcast/rss</td>\n",
       "      <td>36.678233</td>\n",
       "      <td>Comedy</td>\n",
       "      <td>Improv</td>\n",
       "      <td>2020-01-19 10:15:58</td>\n",
       "    </tr>\n",
       "    <tr>\n",
       "      <th>15840</th>\n",
       "      <td>PositiveVibes 24/7</td>\n",
       "      <td>spotify:show:5ueyekcDdst5X5ntxReUz8</td>\n",
       "      <td>PositiveVibes Only</td>\n",
       "      <td>PositiveVibes</td>\n",
       "      <td>https://anchor.fm/s/26f0a70/podcast/rss</td>\n",
       "      <td>3.333292</td>\n",
       "      <td>Education</td>\n",
       "      <td>NaN</td>\n",
       "      <td>2019-02-04 20:59:58</td>\n",
       "    </tr>\n",
       "    <tr>\n",
       "      <th>15841</th>\n",
       "      <td>Quit Smoking With Me : A 30-Day Interactive Po...</td>\n",
       "      <td>spotify:show:0j4a3acM8tC3lvAafWxClt</td>\n",
       "      <td>You don't have to quit smoking alone, we have ...</td>\n",
       "      <td>Quit Rich</td>\n",
       "      <td>https://anchor.fm/s/8ffeb20/podcast/rss</td>\n",
       "      <td>8.224767</td>\n",
       "      <td>Health &amp; Fitness</td>\n",
       "      <td>NaN</td>\n",
       "      <td>2020-08-24 23:38:15</td>\n",
       "    </tr>\n",
       "  </tbody>\n",
       "</table>\n",
       "<p>15842 rows × 9 columns</p>\n",
       "</div>"
      ],
      "text/plain": [
       "                                               show_name  \\\n",
       "0                                      The Grier Podcast   \n",
       "1         \"ACIM\" A Course In Miracles For The Millennium   \n",
       "2                         AfroLatina_BeautifitlyBalanced   \n",
       "3                                   Apostles of Tomorrow   \n",
       "4                                         Brave Broccoli   \n",
       "...                                                  ...   \n",
       "15837                            free your mind: podcast   \n",
       "15838                      The Best Comes from the worst   \n",
       "15839                                      RED CUP VIBEz   \n",
       "15840                                 PositiveVibes 24/7   \n",
       "15841  Quit Smoking With Me : A 30-Day Interactive Po...   \n",
       "\n",
       "                                  show_uri  \\\n",
       "0      spotify:show:1spDjPLku0UCnir7H2hEG4   \n",
       "1      spotify:show:5wb7vWvrCtgsY3jMvIAOXW   \n",
       "2      spotify:show:3zbdWAjWe2sp91t3Ly1j49   \n",
       "3      spotify:show:31r4WwUvNQ0CHGU2xobnZP   \n",
       "4      spotify:show:7K1LCJSpW2OoDcI9PU9iyV   \n",
       "...                                    ...   \n",
       "15837  spotify:show:2DqGCojWyryoDFq0argY9E   \n",
       "15838  spotify:show:31aNxmwRKE2zlQbYVglQxe   \n",
       "15839  spotify:show:5omDM65kJwYhlJdAiA86fn   \n",
       "15840  spotify:show:5ueyekcDdst5X5ntxReUz8   \n",
       "15841  spotify:show:0j4a3acM8tC3lvAafWxClt   \n",
       "\n",
       "                                        show_description  \\\n",
       "0      A podcast recorded and created by the students...   \n",
       "1      \"A study group for the transformation of life ...   \n",
       "2      Health+SELF Love+Spotless Clean Home! Thats ev...   \n",
       "3      A podcast to help fellow Gen Z Apostolics,To f...   \n",
       "4            Just start talking and we can go from there   \n",
       "...                                                  ...   \n",
       "15837  Sharing the journey of life & how to set your ...   \n",
       "15838  In order to live your best life you must exper...   \n",
       "15839  Sipping too many adult beverages out of a red ...   \n",
       "15840                                 PositiveVibes Only   \n",
       "15841  You don't have to quit smoking alone, we have ...   \n",
       "\n",
       "                                publisher  \\\n",
       "0                            Bryan Beckel   \n",
       "1                          Rafael Hidalgo   \n",
       "2      The AfroLatina_BeautifitlyBalanced   \n",
       "3                       Your host Garrett   \n",
       "4                     The brave vegetable   \n",
       "...                                   ...   \n",
       "15837                                 Ima   \n",
       "15838                        James Taylor   \n",
       "15839                        BURBERRYLYTE   \n",
       "15840                       PositiveVibes   \n",
       "15841                           Quit Rich   \n",
       "\n",
       "                                       rss_link  avg_duration  \\\n",
       "0      https://anchor.fm/s/11399a34/podcast/rss     21.389133   \n",
       "1       https://anchor.fm/s/25197c4/podcast/rss     87.984350   \n",
       "2       https://anchor.fm/s/9571594/podcast/rss     19.906850   \n",
       "3       https://anchor.fm/s/ddebcac/podcast/rss     29.358917   \n",
       "4      https://anchor.fm/s/122f9614/podcast/rss     37.889942   \n",
       "...                                         ...           ...   \n",
       "15837   https://anchor.fm/s/e94e5e0/podcast/rss     10.529867   \n",
       "15838   https://anchor.fm/s/b2b7450/podcast/rss     16.416900   \n",
       "15839  https://anchor.fm/s/12949c94/podcast/rss     36.678233   \n",
       "15840   https://anchor.fm/s/26f0a70/podcast/rss      3.333292   \n",
       "15841   https://anchor.fm/s/8ffeb20/podcast/rss      8.224767   \n",
       "\n",
       "                      category        subcategory         publish_time  \n",
       "0                    Education                NaN  2022-02-21 12:00:00  \n",
       "1      Religion & Spirituality                NaN  2019-02-21 19:27:18  \n",
       "2             Health & Fitness      Mental Health  2022-07-08 03:24:43  \n",
       "3      Religion & Spirituality       Spirituality  2020-10-29 17:00:00  \n",
       "4                       Comedy  Comedy Interviews  2020-01-19 01:02:16  \n",
       "...                        ...                ...                  ...  \n",
       "15837                Education   Self-Improvement  2021-03-02 03:49:00  \n",
       "15838  Religion & Spirituality                NaN  2019-10-14 17:02:45  \n",
       "15839                   Comedy             Improv  2020-01-19 10:15:58  \n",
       "15840                Education                NaN  2019-02-04 20:59:58  \n",
       "15841         Health & Fitness                NaN  2020-08-24 23:38:15  \n",
       "\n",
       "[15842 rows x 9 columns]"
      ]
     },
     "execution_count": 5,
     "metadata": {},
     "output_type": "execute_result"
    }
   ],
   "source": [
    "df"
   ]
  },
  {
   "cell_type": "code",
   "execution_count": 6,
   "metadata": {},
   "outputs": [],
   "source": [
    "shows = df.set_index('show_name').to_dict('index')\n",
    "\n",
    "# Create lookup dictionaries\n",
    "show_name_to_index = {show_name : index for index, show_name in enumerate([show_name for show_name in shows])}\n",
    "show_index_to_name = {v:k for k,v in show_name_to_index.items()}"
   ]
  },
  {
   "cell_type": "code",
   "execution_count": 7,
   "metadata": {},
   "outputs": [],
   "source": [
    "docs_compressed = pickle.load( open( \"backend/data/docs_compressed.p\", \"rb\" ) )\n",
    "words_compressed = pickle.load( open( \"backend/data/words_compressed.p\", \"rb\") )\n",
    "tfidf_vec = pickle.load(open(\"backend/data/tfidf.p\", \"rb\"))\n",
    "\n",
    "genre_tf_idf = pickle.load(open(\"backend/data/genre_tf_idf_dict.p\", \"rb\"))\n",
    "publisher_tf_idf = pickle.load(open(\"backend/data/publisher_tf_idf_dict.p\", \"rb\"))"
   ]
  },
  {
   "cell_type": "code",
   "execution_count": 6,
   "metadata": {},
   "outputs": [],
   "source": [
    "pickle.dump(words_compressed, open( \"words_compressed.p\", \"wb\" ) )"
   ]
  },
  {
   "cell_type": "code",
   "execution_count": 24,
   "metadata": {},
   "outputs": [
    {
     "data": {
      "text/plain": [
       "(20000, 40)"
      ]
     },
     "execution_count": 24,
     "metadata": {},
     "output_type": "execute_result"
    }
   ],
   "source": [
    "words_compressed.shape"
   ]
  },
  {
   "cell_type": "code",
   "execution_count": 8,
   "metadata": {},
   "outputs": [],
   "source": [
    "words_compressed = words_compressed.transpose()\n",
    "words_compressed_normed = normalize(words_compressed, axis = 1)\n",
    "docs_compressed_normed = normalize(docs_compressed)"
   ]
  },
  {
   "cell_type": "code",
   "execution_count": 9,
   "metadata": {},
   "outputs": [],
   "source": [
    "def get_genre_tfidf(pref_list):\n",
    "    tf_idf_vec = np.zeros(docs_compressed_normed.shape[1])\n",
    "    \n",
    "    for genre in pref_list:\n",
    "        tf_idf_vec += genre_tf_idf[genre]\n",
    "        \n",
    "    return tf_idf_vec / len(pref_list)"
   ]
  },
  {
   "cell_type": "code",
   "execution_count": 10,
   "metadata": {},
   "outputs": [],
   "source": [
    "def get_publisher_tfidf(pref_list):\n",
    "    tf_idf_vec = np.zeros(docs_compressed_normed.shape[1])\n",
    "    \n",
    "    for publisher in pref_list:\n",
    "        tf_idf_vec += publisher_tf_idf[publisher]\n",
    "        \n",
    "    return tf_idf_vec / len(pref_list)"
   ]
  },
  {
   "cell_type": "code",
   "execution_count": 11,
   "metadata": {},
   "outputs": [],
   "source": [
    "def get_phrase_tfidf(pref_list):\n",
    "    tf_idf_vec = np.zeros(docs_compressed_normed.shape[1])\n",
    "    \n",
    "    for phrase in pref_list:\n",
    "        \n",
    "        # Use V matrix from SVD to represent query in words_compressed_normed space\n",
    "        words = phrase.split(\" \")\n",
    "        stemmed_words = [stemmer.stem(word) for word in words]\n",
    "        query = ' '.join(stemmed_words)\n",
    "        query_tfidf = tfidf_vec.transform([query]).toarray()\n",
    "        query_vec = normalize(np.dot(query_tfidf, words_compressed)).squeeze()\n",
    "        tf_idf_vec += query_vec\n",
    "        \n",
    "    return tf_idf_vec / len(pref_list)"
   ]
  },
  {
   "cell_type": "code",
   "execution_count": 27,
   "metadata": {},
   "outputs": [
    {
     "data": {
      "text/plain": [
       "\"you'll\""
      ]
     },
     "execution_count": 27,
     "metadata": {},
     "output_type": "execute_result"
    }
   ],
   "source": [
    "from nltk.stem.porter import *\n",
    "stemmer = PorterStemmer()\n",
    "stemmer.stem(\"you'll\")"
   ]
  },
  {
   "cell_type": "code",
   "execution_count": 62,
   "metadata": {},
   "outputs": [
    {
     "data": {
      "text/plain": [
       "'basketbal game'"
      ]
     },
     "execution_count": 62,
     "metadata": {},
     "output_type": "execute_result"
    }
   ],
   "source": [
    "string = \"basketball game\"\n",
    "words = string.split(\" \")\n",
    "stemmed_words = [stemmer.stem(word) for word in words]\n",
    "' '.join(stemmed_words)"
   ]
  },
  {
   "cell_type": "code",
   "execution_count": 12,
   "metadata": {},
   "outputs": [],
   "source": [
    "def get_podcast_tfidf(pref_list):\n",
    "    tf_idf_vec = np.zeros(docs_compressed_normed.shape[1])\n",
    "    \n",
    "    for podcast in pref_list:\n",
    "        show_idx = show_name_to_index[podcast]\n",
    "        tf_idf_vec += docs_compressed_normed[show_idx, :]\n",
    "        \n",
    "    return tf_idf_vec / len(pref_list)"
   ]
  },
  {
   "cell_type": "code",
   "execution_count": 13,
   "metadata": {},
   "outputs": [],
   "source": [
    "def get_specific_tfidf(pref_type, pref_list):\n",
    "    \n",
    "    if not pref_list:\n",
    "        return np.zeros(docs_compressed_normed.shape[1])\n",
    "    \n",
    "    if pref_type == \"GENRE\":\n",
    "        tf_idf_vec = get_genre_tfidf(pref_list)\n",
    "            \n",
    "    elif pref_type == \"PUBLISHER\":\n",
    "        tf_idf_vec = get_publisher_tfidf(pref_list)\n",
    "        \n",
    "    elif pref_type == \"PHRASE\":\n",
    "        tf_idf_vec = get_phrase_tfidf(pref_list)\n",
    "        \n",
    "    else: # pref_type is \"PODCAST\"\n",
    "        tf_idf_vec = get_podcast_tfidf(pref_list)\n",
    "                \n",
    "    return tf_idf_vec"
   ]
  },
  {
   "cell_type": "code",
   "execution_count": 14,
   "metadata": {},
   "outputs": [],
   "source": [
    "def get_total_tfidf(genres, publishers, phrases, podcasts):\n",
    "    categories_considered = 0\n",
    "    \n",
    "    tf_idf_vec = np.zeros(docs_compressed_normed.shape[1])\n",
    "    \n",
    "    if genres:\n",
    "        tf_idf_vec += get_specific_tfidf(\"GENRE\", genres)\n",
    "        categories_considered += 1\n",
    "        \n",
    "    if publishers:\n",
    "        tf_idf_vec += get_specific_tfidf(\"PUBLISHER\" , publishers)\n",
    "        categories_considered += 1\n",
    "        \n",
    "    if phrases:\n",
    "        tf_idf_vec += get_specific_tfidf(\"PHRASE\" , phrases)\n",
    "        categories_considered += 1\n",
    "        \n",
    "    if podcasts:\n",
    "        tf_idf_vec += get_specific_tfidf(\"PODCAST\" , podcasts)\n",
    "        categories_considered += 1\n",
    "    \n",
    "    if categories_considered == 0:\n",
    "        return tf_idf_vec\n",
    "    \n",
    "    return tf_idf_vec / categories_considered"
   ]
  },
  {
   "cell_type": "code",
   "execution_count": 29,
   "metadata": {},
   "outputs": [],
   "source": [
    "def get_best_preference_match(indiv_one_pref, indiv_two_pref, rec_podcast_idx):\n",
    "    \"\"\"\n",
    "    \"\"\"\n",
    "    pref_types = [\"genre\", \"publisher\", \"phrase\", \"podcast\"]\n",
    "    \n",
    "    avg_genre_tfidf = (get_specific_tfidf(\"GENRE\", indiv_one_pref[\"genres\"]) + get_specific_tfidf(\"GENRE\", indiv_two_pref[\"genres\"])) / 2\n",
    "    avg_publisher_tfidf = (get_specific_tfidf(\"PUBLISHER\", indiv_one_pref[\"publishers\"]) + get_specific_tfidf(\"PUBLISHER\", indiv_two_pref[\"publishers\"])) / 2  \n",
    "    avg_phrase_tfidf = (get_specific_tfidf(\"PHRASE\", indiv_one_pref[\"phrases\"]) + get_specific_tfidf(\"PHRASE\", indiv_two_pref[\"phrases\"])) / 2\n",
    "    avg_podcast_tfidf = (get_specific_tfidf(\"PODCAST\", indiv_one_pref[\"podcasts\"]) + get_specific_tfidf(\"PODCAST\", indiv_two_pref[\"podcasts\"])) / 2\n",
    "    \n",
    "    recommended_tfidf = docs_compressed_normed[rec_podcast_idx, :]\n",
    "    \n",
    "    similarities = [avg_genre_tfidf.dot(recommended_tfidf), avg_publisher_tfidf.dot(recommended_tfidf), avg_phrase_tfidf.dot(recommended_tfidf), avg_podcast_tfidf.dot(recommended_tfidf)]\n",
    "    \n",
    "    max_similarity = max(similarities)\n",
    "    \n",
    "    for i, similarity in enumerate(similarities):\n",
    "        if similarity == max_similarity:\n",
    "            return (pref_types[i], max_similarity)\n",
    "            result_string = \"This podcast suits your combined %s preference best, with a similarity score . You are %s.\" % (pref_types[i], age)\n",
    "    \n",
    "    return (0, \"\")"
   ]
  },
  {
   "cell_type": "code",
   "execution_count": 34,
   "metadata": {},
   "outputs": [
    {
     "data": {
      "text/plain": [
       "('GENRE', 0.014859702208444563)"
      ]
     },
     "execution_count": 34,
     "metadata": {},
     "output_type": "execute_result"
    }
   ],
   "source": [
    "get_best_preference_match(pref_1, pref_2, 12)"
   ]
  },
  {
   "cell_type": "code",
   "execution_count": 129,
   "metadata": {},
   "outputs": [],
   "source": [
    "def get_top_k_recommendations(indiv_one_pref, indiv_two_pref, k = 10):\n",
    "    \"\"\"\n",
    "    indiv_one_pref = {\n",
    "        genres = [] (string list)\n",
    "        publishers = [] (string list)\n",
    "        phrases = [] (string list)\n",
    "        podcasts = [] (string list)\n",
    "        duration = [min_duration, max_duration]\n",
    "        \n",
    "    }, where each list is a string list of the individual's preferences\n",
    "    \n",
    "    \"\"\"\n",
    "    indiv_one_tfidf = get_total_tfidf(indiv_one_pref[\"genres\"], indiv_one_pref[\"publishers\"], indiv_one_pref[\"phrases\"], indiv_one_pref[\"podcasts\"])\n",
    "    indiv_two_tfidf = get_total_tfidf(indiv_two_pref[\"genres\"], indiv_two_pref[\"publishers\"], indiv_two_pref[\"phrases\"], indiv_two_pref[\"podcasts\"])\n",
    "    \n",
    "    avg_tfidf = (indiv_one_tfidf + indiv_two_tfidf) / 2\n",
    "    \n",
    "    # Find overlap of both user durations\n",
    "    min_duration = max(indiv_one_pref[\"duration\"][0], indiv_two_pref[\"duration\"][0])\n",
    "    max_duration = min(indiv_one_pref[\"duration\"][1], indiv_two_pref[\"duration\"][1])\n",
    "    \n",
    "    # If max_duration is 60, user is okay with any length greater than 60 as well\n",
    "    if max_duration == 60:\n",
    "        max_duration = float('inf')\n",
    "\n",
    "    # Find indices of podcasts that satisfy duration constraints\n",
    "    new_df = df[(df[\"avg_duration\"] >= min_duration) & (df[\"avg_duration\"] <= max_duration)]\n",
    "    valid_idx = new_df.index.tolist()\n",
    "    \n",
    "    # Only calculate similarity for podcasts meeting duration\n",
    "    valid_docs = docs_compressed_normed[valid_idx, :]\n",
    "    similarities = valid_docs.dot(avg_tfidf)\n",
    "    sorted_idx = np.argsort(similarities)[::-1]\n",
    "    \n",
    "    top_matches = []\n",
    "    num_iterations = min(k, len(sorted_idx))\n",
    "\n",
    "    for i in range(num_iterations):\n",
    "        podcast_idx = valid_idx[sorted_idx[i]]\n",
    "        top_matches.append((show_index_to_name[podcast_idx], similarities[sorted_idx[i]]))\n",
    "\n",
    "    return top_matches"
   ]
  },
  {
   "cell_type": "code",
   "execution_count": 132,
   "metadata": {},
   "outputs": [],
   "source": [
    "pref_1 = {\n",
    "    \n",
    "    'genres': [], 'publishers': [], 'phrases': [\"baseball\"], 'podcasts': [], 'duration': [0, 30]\n",
    "}\n",
    "\n",
    "pref_2 = {\n",
    "    \n",
    "    'genres': [], 'publishers': [], 'phrases': [], 'podcasts': [], 'duration': [20, 60]\n",
    "}"
   ]
  },
  {
   "cell_type": "code",
   "execution_count": 133,
   "metadata": {},
   "outputs": [
    {
     "data": {
      "text/plain": [
       "[]"
      ]
     },
     "execution_count": 133,
     "metadata": {},
     "output_type": "execute_result"
    }
   ],
   "source": [
    "get_top_k_recommendations(pref_1, pref_2)"
   ]
  },
  {
   "cell_type": "code",
   "execution_count": 15,
   "metadata": {},
   "outputs": [],
   "source": [
    "def get_top_k_recs_given_query(query, k = 10):\n",
    "    \"\"\"\n",
    "    Params:\n",
    "    {\n",
    "        query: TF-IDF vector representing a query (shape of (40, ))\n",
    "        k: number of recommendations returned (default = 10)\n",
    "    }\n",
    "\n",
    "    Returns: a list of k sorted tuples in format (podcast name, cosine similarity) \n",
    "    \"\"\"\n",
    "    similarities = docs_compressed_normed.dot(query)\n",
    "    sorted_idx = np.argsort(similarities)[::-1]\n",
    "\n",
    "    top_matches = []\n",
    "    for i in range(k):\n",
    "        top_matches.append((show_index_to_name[sorted_idx[i]], similarities[sorted_idx[i]]))\n",
    "\n",
    "    return top_matches"
   ]
  },
  {
   "cell_type": "code",
   "execution_count": null,
   "metadata": {},
   "outputs": [],
   "source": [
    "query = docs_compressed_normed[1, :]"
   ]
  },
  {
   "cell_type": "code",
   "execution_count": null,
   "metadata": {},
   "outputs": [],
   "source": [
    "get_top_k_recs_given_query(query)"
   ]
  },
  {
   "cell_type": "code",
   "execution_count": null,
   "metadata": {},
   "outputs": [],
   "source": [
    "get_phrase_tfidf([\"nba basketball\"])"
   ]
  }
 ],
 "metadata": {
  "kernelspec": {
   "display_name": "cs4300-env",
   "language": "python",
   "name": "cs4300-env"
  },
  "language_info": {
   "codemirror_mode": {
    "name": "ipython",
    "version": 3
   },
   "file_extension": ".py",
   "mimetype": "text/x-python",
   "name": "python",
   "nbconvert_exporter": "python",
   "pygments_lexer": "ipython3",
   "version": "3.7.6"
  }
 },
 "nbformat": 4,
 "nbformat_minor": 5
}
